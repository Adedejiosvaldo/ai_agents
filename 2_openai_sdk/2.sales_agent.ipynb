{
 "cells": [
  {
   "cell_type": "code",
   "execution_count": 10,
   "id": "1b0f09dd",
   "metadata": {},
   "outputs": [],
   "source": [
    "from dotenv import load_dotenv\n",
    "from agents import Agent, trace, function_tool, Runner\n",
    "from openai.types.responses import ResponseTextDeltaEvent\n",
    "from typing import Dict\n",
    "import resend\n",
    "from agents.extensions.models.litellm_model import LitellmModel\n",
    "import os"
   ]
  },
  {
   "cell_type": "code",
   "execution_count": 7,
   "id": "69ebfe70",
   "metadata": {},
   "outputs": [
    {
     "data": {
      "text/plain": [
       "True"
      ]
     },
     "execution_count": 7,
     "metadata": {},
     "output_type": "execute_result"
    }
   ],
   "source": [
    "load_dotenv(override=True)"
   ]
  },
  {
   "cell_type": "code",
   "execution_count": 8,
   "id": "5151d53b",
   "metadata": {},
   "outputs": [],
   "source": [
    "instructions1 = \"You are a sales agent working for ComplAI, \\\n",
    "a company that provides a SaaS tool for ensuring SOC2 compliance and preparing for audits, powered by AI. \\\n",
    "You write professional, serious cold emails.\"\n",
    "\n",
    "instructions2 = \"You are a humorous, engaging sales agent working for ComplAI, \\\n",
    "a company that provides a SaaS tool for ensuring SOC2 compliance and preparing for audits, powered by AI. \\\n",
    "You write witty, engaging cold emails that are likely to get a response.\"\n",
    "\n",
    "instructions3 = \"You are a busy sales agent working for ComplAI, \\\n",
    "a company that provides a SaaS tool for ensuring SOC2 compliance and preparing for audits, powered by AI. \\\n",
    "You write concise, to the point cold emails.\""
   ]
  },
  {
   "cell_type": "code",
   "execution_count": 9,
   "id": "25c74279",
   "metadata": {},
   "outputs": [],
   "source": [
    "sales_agent1 = Agent(\n",
    "    name=\"Professional Sales Agent\",\n",
    "    instructions=instructions1,\n",
    "    model=LitellmModel(\n",
    "        model=\"gemini/gemini-2.0-flash\", api_key=os.getenv(\"GEMINI_API_KEY\")\n",
    "    ),\n",
    ")\n",
    "\n",
    "sales_agent2 = Agent(\n",
    "    name=\"Engaging Sales Agent\", instructions=instructions2, model=LitellmModel(\n",
    "        model=\"gemini/gemini-2.0-flash\", api_key=os.getenv(\"GEMINI_API_KEY\")\n",
    "    ),\n",
    ")\n",
    "\n",
    "sales_agent3 = Agent(\n",
    "    name=\"Busy Sales Agent\", instructions=instructions3, model=LitellmModel(\n",
    "        model=\"gemini/gemini-2.0-flash\", api_key=os.getenv(\"GEMINI_API_KEY\")\n",
    "    )\n",
    ")"
   ]
  },
  {
   "cell_type": "code",
   "execution_count": 15,
   "id": "38f38593",
   "metadata": {},
   "outputs": [
    {
     "name": "stdout",
     "output_type": "stream",
     "text": [
      "Subject: Streamline Your SOC2 Compliance with AI-Powered Efficiency\n",
      "\n",
      "Dear [Contact Name],\n",
      "\n",
      "My: Streamline Your SOC2 Compliance with AI-Powered Efficiency\n",
      "\n",
      "Dear [Contact Name],\n",
      "\n",
      "My name is [Your Name] and I'm a Sales Agent at ComplAI, a company focused on simplifying the SOC2 compliance process. I'm reaching out to you at [Company Name] because I understand you may be preparing for a SOC2 audit, and I believe ComplAI could significantly streamline your efforts.\n",
      "\n",
      "Preparing for a SOC2 audit can be a complex and resource-intensive undertaking. From gathering evidence and managing documentation to ensuring continuous compliance, it demands significant time and expertise.\n",
      "\n",
      "ComplAI offers an AI-powered SaaS solution that automates many of these crucial tasks, allowing your team to focus on core business objectives. Our platform helps you:\n",
      "\n",
      "*   **Automate Evidence Collection:** Seamlessly integrate with your existing systems to automatically gather and map evidence to SOC2 requirements.\n",
      "*   **Centralize Documentation:** Create a single source of truth for all your policies, procedures, and controls.\n",
      "*   **Proactively Identify Gaps:** Leverage AI-driven analysis to identify potential compliance gaps before they become audit findings.\n",
      "*   **Simplify Audit Preparation:** Generate comprehensive reports and dashboards that provide real-time visibility into your compliance posture.\n",
      "\n",
      "We believe ComplAI can help [Company Name] significantly reduce the time, cost, and complexity associated with SOC2 compliance.\n",
      "\n",
      "Would you be open to a brief, 15-minute call next week to discuss your SOC2 needs and explore how ComplAI can help you achieve a successful audit?\n",
      "\n",
      "Thank you for your time and consideration.\n",
      "\n",
      "Sincerely,\n",
      "\n",
      "[Your Name]\n",
      "\n",
      "Sales Agent | ComplAI\n",
      "\n",
      "[Your Phone Number]\n",
      "\n",
      "[Your Email Address]\n",
      "\n",
      "[Your Company Website]\n"
     ]
    }
   ],
   "source": [
    "result = Runner.run_streamed(sales_agent1,input=\"Write a cold email to a company that needs to prepare for a SOC2 audit.\")\n",
    "async for event in result.stream_events():\n",
    "    if event.type ==\"raw_response_event\" and isinstance(event.data,ResponseTextDeltaEvent):\n",
    "        print(event.data.delta, end=\"\", flush=True)"
   ]
  },
  {
   "cell_type": "code",
   "execution_count": null,
   "id": "b1d6b07a",
   "metadata": {},
   "outputs": [],
   "source": []
  }
 ],
 "metadata": {
  "kernelspec": {
   "display_name": "ai_agents",
   "language": "python",
   "name": "python3"
  },
  "language_info": {
   "codemirror_mode": {
    "name": "ipython",
    "version": 3
   },
   "file_extension": ".py",
   "mimetype": "text/x-python",
   "name": "python",
   "nbconvert_exporter": "python",
   "pygments_lexer": "ipython3",
   "version": "3.12.0"
  }
 },
 "nbformat": 4,
 "nbformat_minor": 5
}
