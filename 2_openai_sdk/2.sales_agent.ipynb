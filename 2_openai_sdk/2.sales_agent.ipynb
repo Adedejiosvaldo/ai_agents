{
 "cells": [
  {
   "cell_type": "code",
   "execution_count": 3,
   "id": "1b0f09dd",
   "metadata": {},
   "outputs": [],
   "source": [
    "from dotenv import load_dotenv\n",
    "from agents import Agent, trace, function_tool, Runner, AsyncOpenAI\n",
    "from openai.types.responses import ResponseTextDeltaEvent\n",
    "from typing import Dict\n",
    "import resend\n",
    "from agents.extensions.models.litellm_model import LitellmModel\n",
    "import os\n",
    "import asyncio"
   ]
  },
  {
   "cell_type": "code",
   "execution_count": 43,
   "id": "69ebfe70",
   "metadata": {},
   "outputs": [
    {
     "data": {
      "text/plain": [
       "True"
      ]
     },
     "execution_count": 43,
     "metadata": {},
     "output_type": "execute_result"
    }
   ],
   "source": [
    "load_dotenv(override=True)"
   ]
  },
  {
   "cell_type": "code",
   "execution_count": 6,
   "id": "60370b26",
   "metadata": {},
   "outputs": [],
   "source": [
    "import os\n",
    "\n",
    "from agents import OpenAIChatCompletionsModel\n",
    "\n",
    "GEMINI_BASE_URL = os.getenv(\"GEMINI_BASE_URL\", \"https://generativelanguage.googleapis.com/v1beta/openai/\")\n",
    "\n",
    "gemini_client = AsyncOpenAI(base_url=GEMINI_BASE_URL, api_key=os.getenv(\"GEMINI_API_KEY\"))\n",
    "\n",
    "gemini_model = OpenAIChatCompletionsModel(openai_client=gemini_client, model=\"gemini-2.0-flash\")"
   ]
  },
  {
   "cell_type": "code",
   "execution_count": 7,
   "id": "5151d53b",
   "metadata": {},
   "outputs": [],
   "source": [
    "instructions1 = \"You are a sales agent working for ComplAI, \\\n",
    "a company that provides a SaaS tool for ensuring SOC2 compliance and preparing for audits, powered by AI. \\\n",
    "You write professional, serious cold emails.\"\n",
    "\n",
    "instructions2 = \"You are a humorous, engaging sales agent working for ComplAI, \\\n",
    "a company that provides a SaaS tool for ensuring SOC2 compliance and preparing for audits, powered by AI. \\\n",
    "You write witty, engaging cold emails that are likely to get a response.\"\n",
    "\n",
    "instructions3 = \"You are a busy sales agent working for ComplAI, \\\n",
    "a company that provides a SaaS tool for ensuring SOC2 compliance and preparing for audits, powered by AI. \\\n",
    "You write concise, to the point cold emails.\""
   ]
  },
  {
   "cell_type": "code",
   "execution_count": 8,
   "id": "25c74279",
   "metadata": {},
   "outputs": [],
   "source": [
    "sales_agent1 = Agent(\n",
    "    name=\"Professional Sales Agent\",\n",
    "    instructions=instructions1,\n",
    "    model =gemini_model\n",
    "    # model=LitellmModel(\n",
    "    #     model=\"gemini/gemini-2.0-flash\", api_key=os.getenv(\"GEMINI_API_KEY\")\n",
    "    # ),\n",
    ")\n",
    "\n",
    "sales_agent2 = Agent(\n",
    "    name=\"Engaging Sales Agent\", instructions=instructions2, model=LitellmModel(\n",
    "        model=\"gemini/gemini-2.0-flash\", api_key=os.getenv(\"GEMINI_API_KEY\")\n",
    "    ),\n",
    ")\n",
    "\n",
    "sales_agent3 = Agent(\n",
    "    name=\"Busy Sales Agent\", instructions=instructions3, model=LitellmModel(\n",
    "        model=\"gemini/gemini-2.0-flash\", api_key=os.getenv(\"GEMINI_API_KEY\")\n",
    "    )\n",
    ")"
   ]
  },
  {
   "cell_type": "code",
   "execution_count": 9,
   "id": "38f38593",
   "metadata": {},
   "outputs": [
    {
     "name": "stdout",
     "output_type": "stream",
     "text": [
      "Subject: Streamline Your SOC 2 Compliance with ComplAI\n",
      "\n",
      "Dear [Contact Name],\n",
      "\n",
      "My name is [Your Name] from ComplAI. We understand that achieving and maintaining SOC 2 compliance can be a complex and resource-intensive process, and we're reaching out to offer a solution that simplifies and streamlines the entire journey.\n",
      "\n",
      "At ComplAI, we provide an AI-powered SaaS platform specifically designed to help companies like [Company Name] prepare for and successfully navigate SOC 2 audits. Our platform offers:\n",
      "\n",
      "*   **Automated Evidence Collection:** Reduce manual effort by automating the collection of evidence needed for audit requirements.\n",
      "*   **Policy and Procedure Management:** Simplify the creation, management, and enforcement of security policies with AI-driven recommendations.\n",
      "*   **Risk Assessment and Remediation:** Identify and mitigate potential security risks, ensuring a robust security posture.\n",
      "*   **Continuous Monitoring:** Maintain continuous compliance through automated monitoring and alerting.\n",
      "\n",
      "We believe ComplAI can significantly reduce the time and cost associated with SOC 2 compliance, allowing your team to focus on core business objectives.\n",
      "\n",
      "Would you be open to a brief 15-minute conversation to discuss your current SOC 2 compliance efforts and how ComplAI can help you achieve your goals more efficiently?\n",
      "\n",
      "Thank you for your time and consideration.\n",
      "\n",
      "Sincerely,\n",
      "\n",
      "[Your Name]\n",
      "\n",
      "[Your Title]\n",
      "\n",
      "ComplAI\n",
      "\n",
      "[Your Phone Number]\n",
      "\n",
      "[Your Email Address]\n",
      "\n",
      "[Your Website]\n"
     ]
    },
    {
     "name": "stderr",
     "output_type": "stream",
     "text": [
      "OPENAI_API_KEY is not set, skipping trace export\n"
     ]
    }
   ],
   "source": [
    "result = Runner.run_streamed(sales_agent1,input=\"Write a cold email to a company that needs to prepare for a SOC2 audit.\")\n",
    "async for event in result.stream_events():\n",
    "    if event.type ==\"raw_response_event\" and isinstance(event.data,ResponseTextDeltaEvent):\n",
    "        print(event.data.delta, end=\"\", flush=True)"
   ]
  },
  {
   "cell_type": "code",
   "execution_count": 47,
   "id": "b1d6b07a",
   "metadata": {},
   "outputs": [
    {
     "name": "stdout",
     "output_type": "stream",
     "text": [
      "Subject: Streamline Your SOC 2 Compliance with ComplAI\n",
      "\n",
      "Dear [Recipient Name],\n",
      "\n",
      "My name is [Your Name] and I'm with ComplAI, an AI-powered platform designed to simplify and accelerate the SOC 2 compliance process.\n",
      "\n",
      "I understand that preparing for a SOC 2 audit can be a complex and resource-intensive undertaking. Many companies like [Company Name], particularly in the [Recipient Company Industry] sector, struggle with the manual processes involved in evidence collection, policy management, and gap analysis.\n",
      "\n",
      "ComplAI offers a comprehensive solution that automates these tasks, significantly reducing the time and cost associated with SOC 2 compliance. Our platform:\n",
      "\n",
      "*   **Continuously monitors your environment:** Automatically collects and analyzes evidence to demonstrate compliance with SOC 2 criteria.\n",
      "*   **Provides AI-driven gap analysis:** Identifies areas where your security posture needs improvement and offers actionable remediation steps.\n",
      "*   **Streamlines policy management:** Simplifies the creation, distribution, and maintenance of your security policies.\n",
      "*   **Prepares you for a successful audit:** Generates comprehensive reports and provides audit readiness assessments.\n",
      "\n",
      "We believe ComplAI can be a valuable asset in helping [Recipient Company Name] achieve SOC 2 compliance efficiently and confidently.\n",
      "\n",
      "Would you be open to a brief 15-minute call to discuss your specific needs and how ComplAI can help you streamline your SOC 2 journey?\n",
      "\n",
      "Thank you for your time and consideration.\n",
      "\n",
      "Sincerely,\n",
      "\n",
      "[Your Name]\n",
      "\n",
      "[Your Title]\n",
      "\n",
      "ComplAI\n",
      "\n",
      "[Your Website]\n",
      "[Your Phone Number]\n",
      " \n",
      "\n",
      "---\n",
      "\n",
      "\n",
      "Subject: So, you're thinking about SOC 2? Let's make it less \"So Stressed\" and more \"So Smooth.\" 😉\n",
      "\n",
      "Hey [Contact Name],\n",
      "\n",
      "Let's be honest, thinking about a SOC 2 audit usually conjures images of overflowing spreadsheets, late-night scramble sessions, and the general feeling that you're about to be audited by robots (spoiler: some auditors *are* probably powered by robots now).\n",
      "\n",
      "That's where ComplAI comes in. We're like your friendly neighborhood SOC 2 sherpa, but instead of yaks, we use AI to guide you through the treacherous terrain of compliance. \n",
      "\n",
      "Think of us as the cheat code for SOC 2. We help you:\n",
      "\n",
      "*   **Automate the grunt work:** Say goodbye to endless evidence collection! We connect to your existing tools and automatically gather the data you need.\n",
      "*   **Identify security gaps before they become audit headaches:** Our AI is like a super-powered compliance detective, sniffing out potential issues before the auditors do.\n",
      "*   **Get audit-ready faster (and with less caffeine):** We streamline the whole process, so you can focus on, you know, actually running your business.\n",
      "\n",
      "Ready to turn your SOC 2 anxiety into SOC 2 zen? I'd love to chat for 15 minutes about how ComplAI can make your audit prep a breeze (and maybe even a little bit fun!).\n",
      "\n",
      "Hit reply, and let's schedule a time.\n",
      "\n",
      "Best,\n",
      "\n",
      "[Your Name]\n",
      "\n",
      "The Hilariously Helpful Compliance Expert at ComplAI\n",
      "\n",
      "P.S. Did you hear about the SOC 2 auditor who walked into a bar? He ordered a \"Control Collins\" and asked if the evidence was \"adequately segregated.\" I'll show myself out... but seriously, let's talk!\n",
      " \n",
      "\n",
      "---\n",
      "\n",
      "\n",
      "Subject: SOC2 Compliance Simplified\n",
      "\n",
      "Hi [Name],\n",
      "\n",
      "Preparing for a SOC2 audit is complex. ComplAI simplifies the process with AI-powered automation, saving you time and resources.\n",
      "\n",
      "Interested in a quick demo?\n",
      "\n",
      "Best,\n",
      "\n",
      "[Your Name]\n",
      "\n",
      "ComplAI\n",
      " \n",
      "\n",
      "---\n",
      "\n",
      "\n"
     ]
    }
   ],
   "source": [
    "message = \"Write a cold email to a company that needs to prepare for a SOC2 audit.\"\n",
    "\n",
    "with trace(\"Parallel Cold Emails\"):\n",
    "    results = await asyncio.gather(\n",
    "        Runner.run(sales_agent1, input=message),\n",
    "        Runner.run(sales_agent2, input=message),\n",
    "        Runner.run(sales_agent3, input=message),\n",
    "    )\n",
    "\n",
    "\n",
    "outputs = [result.final_output for result in results]\n",
    "for output in outputs:\n",
    "    print(output, \"\\n\\n---\\n\\n\")\n"
   ]
  },
  {
   "cell_type": "code",
   "execution_count": 10,
   "id": "ca0f1aad",
   "metadata": {},
   "outputs": [],
   "source": [
    "sales_email_picker = Agent(\n",
    "    name=\"sales_email_picker\",\n",
    "    instructions=\"\"\"\n",
    "You pick the best cold sales email from the given options. \\\n",
    "Imagine you are a customer and pick the one you are most likely to respond to. \\\n",
    "Do not give an explanation; reply with the full selected email only. \",\n",
    "    \"\"\",\n",
    "    model=LitellmModel(\n",
    "        model=\"gemini/gemini-2.0-flash\", api_key=os.getenv(\"GEMINI_API_KEY\")\n",
    "    ),\n",
    ")"
   ]
  },
  {
   "cell_type": "code",
   "execution_count": 49,
   "id": "5ac39caa",
   "metadata": {},
   "outputs": [
    {
     "name": "stdout",
     "output_type": "stream",
     "text": [
      "Best Email:\n",
      "\n",
      " Subject: Is Your SOC 2 Compliance a Ticking Time Bomb (or Just a Slightly Annoying To-Do)? 💣\n",
      "\n",
      "Hey [Contact Name],\n",
      "\n",
      "Let's be honest, \"SOC 2 Compliance\" probably isn't topping your list of fun things to do this week, is it? I imagine it's nestled somewhere between \"root canal\" and \"untangling Christmas lights in July.\"\n",
      "\n",
      "But fear not! At ComplAI, we're on a mission to make SOC 2 compliance...dare I say... *not* a soul-crushing experience. We've built an AI-powered SaaS tool that automates the tedious parts, streamlines the process, and generally makes the whole thing less likely to induce hives.\n",
      "\n",
      "Think of us as your compliance co-pilot, navigating the audit airspace while you focus on, you know, actually building awesome stuff.\n",
      "\n",
      "We help you:\n",
      "\n",
      "*   **Automate Evidence Collection:** Stop the screenshot madness! (We've all been there).\n",
      "*   **Identify and Remediate Gaps:** We find the skeletons in your compliance closet before the auditor does.\n",
      "*   **Stay Continuously Compliant:** So you're always ready for that surprise audit (because nobody likes surprises involving auditors).\n",
      "\n",
      "Are you currently preparing for a SOC 2 audit, or thinking about tackling it soon? If so, I'd love to chat for 15 minutes and show you how ComplAI can help you conquer compliance without losing your sanity (or your hair).\n",
      "\n",
      "Just hit reply, and let's schedule a quick call!\n",
      "\n",
      "Worst case scenario, you get a slightly amusing email out of the deal. Best case? You find a solution that transforms your SOC 2 journey from a grueling trek into a breezy stroll.\n",
      "\n",
      "Cheers,\n",
      "\n",
      "[Your Name]\n",
      "\n",
      "The Humorously Helpful Sales Agent at ComplAI\n",
      "\n",
      "P.S. If you're already SOC 2 compliant...congrats! Go treat yourself to something nice. You deserve it! But if you know anyone who *isn't*... send them our way. We accept referrals in the form of coffee... or maybe even a root canal referral in return? (Just kidding... mostly.)\n",
      " \n",
      "\n",
      "---\n",
      "\n",
      "\n"
     ]
    }
   ],
   "source": [
    "message = \"Write a cold email to a company that needs to prepare for a SOC2 audit.\"\n",
    "\n",
    "with trace(\"Parallel Cold Emails\"):\n",
    "    results = await asyncio.gather(\n",
    "        Runner.run(sales_agent1, input=message),\n",
    "        Runner.run(sales_agent2, input=message),\n",
    "        Runner.run(sales_agent3, input=message),\n",
    "    )\n",
    "\n",
    "\n",
    "outputs = [result.final_output for result in results]\n",
    "\n",
    "emails = \"Cold Sales Emails:\\n\\n\".join(outputs)\n",
    "\n",
    "best_email = await Runner.run(\n",
    "    sales_email_picker,\n",
    "    emails\n",
    ")\n",
    "print(\"Best Email:\\n\\n\", best_email.final_output, \"\\n\\n---\\n\\n\")"
   ]
  },
  {
   "cell_type": "code",
   "execution_count": 11,
   "id": "7ad8b3d1",
   "metadata": {},
   "outputs": [],
   "source": [
    "import resend\n",
    "resend.api_key = os.getenv(\"RESEND_API_KEY\")\n",
    "@function_tool\n",
    "def send_email(subject:str, html_body:str):\n",
    "    \"\"\"Send out an email to the user with the given body.\"\"\"\n",
    "    params: resend.Emails.SendParams = {\n",
    "        \"from\": \"Acme <onboarding@resend.dev>\",\n",
    "        \"to\": [\"adedejiosvaldo@gmail.com\"],\n",
    "        \"subject\": subject,\n",
    "        \"html\": html_body,\n",
    "    }\n",
    "    email = resend.Emails.send(params)\n",
    "    print(email)"
   ]
  },
  {
   "cell_type": "code",
   "execution_count": 61,
   "id": "2fcd432c",
   "metadata": {},
   "outputs": [
    {
     "data": {
      "text/plain": [
       "FunctionTool(name='send_email', description='Send out an email to the user with the given body.', params_json_schema={'properties': {'body': {'title': 'Body', 'type': 'string'}}, 'required': ['body'], 'title': 'send_email_args', 'type': 'object', 'additionalProperties': False}, on_invoke_tool=<function function_tool.<locals>._create_function_tool.<locals>._on_invoke_tool at 0x7c1d8e664d60>, strict_json_schema=True, is_enabled=True)"
      ]
     },
     "execution_count": 61,
     "metadata": {},
     "output_type": "execute_result"
    }
   ],
   "source": [
    "send_email"
   ]
  },
  {
   "cell_type": "code",
   "execution_count": 62,
   "id": "511fef04",
   "metadata": {},
   "outputs": [
    {
     "data": {
      "text/plain": [
       "[FunctionTool(name='sales_agent1', description='Write a cold sales email', params_json_schema={'properties': {'input': {'title': 'Input', 'type': 'string'}}, 'required': ['input'], 'title': 'sales_agent1_args', 'type': 'object', 'additionalProperties': False}, on_invoke_tool=<function function_tool.<locals>._create_function_tool.<locals>._on_invoke_tool at 0x7c1df89328e0>, strict_json_schema=True, is_enabled=True),\n",
       " FunctionTool(name='sales_agent2', description='Write a cold sales email', params_json_schema={'properties': {'input': {'title': 'Input', 'type': 'string'}}, 'required': ['input'], 'title': 'sales_agent2_args', 'type': 'object', 'additionalProperties': False}, on_invoke_tool=<function function_tool.<locals>._create_function_tool.<locals>._on_invoke_tool at 0x7c1d8e643100>, strict_json_schema=True, is_enabled=True),\n",
       " FunctionTool(name='sales_agent3', description='Write a cold sales email', params_json_schema={'properties': {'input': {'title': 'Input', 'type': 'string'}}, 'required': ['input'], 'title': 'sales_agent3_args', 'type': 'object', 'additionalProperties': False}, on_invoke_tool=<function function_tool.<locals>._create_function_tool.<locals>._on_invoke_tool at 0x7c1d8e643b00>, strict_json_schema=True, is_enabled=True),\n",
       " FunctionTool(name='send_email', description='Send out an email to the user with the given body.', params_json_schema={'properties': {'body': {'title': 'Body', 'type': 'string'}}, 'required': ['body'], 'title': 'send_email_args', 'type': 'object', 'additionalProperties': False}, on_invoke_tool=<function function_tool.<locals>._create_function_tool.<locals>._on_invoke_tool at 0x7c1d8e664d60>, strict_json_schema=True, is_enabled=True)]"
      ]
     },
     "execution_count": 62,
     "metadata": {},
     "output_type": "execute_result"
    }
   ],
   "source": [
    "description = \"Write a cold sales email\"\n",
    "\n",
    "tool1 = sales_agent1.as_tool(tool_name=\"sales_agent1\", tool_description=description)\n",
    "tool2 = sales_agent2.as_tool(tool_name=\"sales_agent2\", tool_description=description)\n",
    "tool3 = sales_agent3.as_tool(tool_name=\"sales_agent3\", tool_description=description)\n",
    "\n",
    "tools = [tool1, tool2, tool3, send_email]\n",
    "\n",
    "tools"
   ]
  },
  {
   "cell_type": "code",
   "execution_count": 63,
   "id": "e9ed77bf",
   "metadata": {},
   "outputs": [
    {
     "name": "stdout",
     "output_type": "stream",
     "text": [
      "{'id': '3601fdc2-96ff-4b24-a6c0-3fa4ad81a3b3'}\n"
     ]
    }
   ],
   "source": [
    "instructions = \"You are a sales manager working for ComplAI. You use the tools given to you to generate cold sales emails. \\\n",
    "You never generate sales emails yourself; you always use the tools. \\\n",
    "You try all 3 sales_agent tools once before choosing the best one. \\\n",
    "You pick the single best email and use the send_email tool to send the best email (and only the best email) to the user.\"\n",
    "\n",
    "\n",
    "sales_manager = Agent(\n",
    "    name=\"Sales Manager\",\n",
    "    instructions=instructions,\n",
    "    tools=tools,\n",
    "    model=LitellmModel(\n",
    "        model=\"gemini/gemini-2.0-flash\", api_key=os.getenv(\"GEMINI_API_KEY\")\n",
    "    ),\n",
    ")\n",
    "\n",
    "message = \"Send a cold sales email addressed to 'Dear CEO'\"\n",
    "\n",
    "with trace(\"Sales manager\"):\n",
    "    result = await Runner.run(sales_manager, message)"
   ]
  }
 ],
 "metadata": {
  "kernelspec": {
   "display_name": "ai_agents",
   "language": "python",
   "name": "python3"
  },
  "language_info": {
   "codemirror_mode": {
    "name": "ipython",
    "version": 3
   },
   "file_extension": ".py",
   "mimetype": "text/x-python",
   "name": "python",
   "nbconvert_exporter": "python",
   "pygments_lexer": "ipython3",
   "version": "3.12.0"
  }
 },
 "nbformat": 4,
 "nbformat_minor": 5
}
