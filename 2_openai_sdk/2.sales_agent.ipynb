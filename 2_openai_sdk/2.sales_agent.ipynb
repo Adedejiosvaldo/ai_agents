{
 "cells": [
  {
   "cell_type": "code",
   "execution_count": 16,
   "id": "1b0f09dd",
   "metadata": {},
   "outputs": [],
   "source": [
    "from dotenv import load_dotenv\n",
    "from agents import Agent, trace, function_tool, Runner\n",
    "from openai.types.responses import ResponseTextDeltaEvent\n",
    "from typing import Dict\n",
    "import resend\n",
    "from agents.extensions.models.litellm_model import LitellmModel\n",
    "import os\n",
    "import asyncio"
   ]
  },
  {
   "cell_type": "code",
   "execution_count": 7,
   "id": "69ebfe70",
   "metadata": {},
   "outputs": [
    {
     "data": {
      "text/plain": [
       "True"
      ]
     },
     "execution_count": 7,
     "metadata": {},
     "output_type": "execute_result"
    }
   ],
   "source": [
    "load_dotenv(override=True)"
   ]
  },
  {
   "cell_type": "code",
   "execution_count": 8,
   "id": "5151d53b",
   "metadata": {},
   "outputs": [],
   "source": [
    "instructions1 = \"You are a sales agent working for ComplAI, \\\n",
    "a company that provides a SaaS tool for ensuring SOC2 compliance and preparing for audits, powered by AI. \\\n",
    "You write professional, serious cold emails.\"\n",
    "\n",
    "instructions2 = \"You are a humorous, engaging sales agent working for ComplAI, \\\n",
    "a company that provides a SaaS tool for ensuring SOC2 compliance and preparing for audits, powered by AI. \\\n",
    "You write witty, engaging cold emails that are likely to get a response.\"\n",
    "\n",
    "instructions3 = \"You are a busy sales agent working for ComplAI, \\\n",
    "a company that provides a SaaS tool for ensuring SOC2 compliance and preparing for audits, powered by AI. \\\n",
    "You write concise, to the point cold emails.\""
   ]
  },
  {
   "cell_type": "code",
   "execution_count": 9,
   "id": "25c74279",
   "metadata": {},
   "outputs": [],
   "source": [
    "sales_agent1 = Agent(\n",
    "    name=\"Professional Sales Agent\",\n",
    "    instructions=instructions1,\n",
    "    model=LitellmModel(\n",
    "        model=\"gemini/gemini-2.0-flash\", api_key=os.getenv(\"GEMINI_API_KEY\")\n",
    "    ),\n",
    ")\n",
    "\n",
    "sales_agent2 = Agent(\n",
    "    name=\"Engaging Sales Agent\", instructions=instructions2, model=LitellmModel(\n",
    "        model=\"gemini/gemini-2.0-flash\", api_key=os.getenv(\"GEMINI_API_KEY\")\n",
    "    ),\n",
    ")\n",
    "\n",
    "sales_agent3 = Agent(\n",
    "    name=\"Busy Sales Agent\", instructions=instructions3, model=LitellmModel(\n",
    "        model=\"gemini/gemini-2.0-flash\", api_key=os.getenv(\"GEMINI_API_KEY\")\n",
    "    )\n",
    ")"
   ]
  },
  {
   "cell_type": "code",
   "execution_count": 15,
   "id": "38f38593",
   "metadata": {},
   "outputs": [
    {
     "name": "stdout",
     "output_type": "stream",
     "text": [
      "Subject: Streamline Your SOC2 Compliance with AI-Powered Efficiency\n",
      "\n",
      "Dear [Contact Name],\n",
      "\n",
      "My: Streamline Your SOC2 Compliance with AI-Powered Efficiency\n",
      "\n",
      "Dear [Contact Name],\n",
      "\n",
      "My name is [Your Name] and I'm a Sales Agent at ComplAI, a company focused on simplifying the SOC2 compliance process. I'm reaching out to you at [Company Name] because I understand you may be preparing for a SOC2 audit, and I believe ComplAI could significantly streamline your efforts.\n",
      "\n",
      "Preparing for a SOC2 audit can be a complex and resource-intensive undertaking. From gathering evidence and managing documentation to ensuring continuous compliance, it demands significant time and expertise.\n",
      "\n",
      "ComplAI offers an AI-powered SaaS solution that automates many of these crucial tasks, allowing your team to focus on core business objectives. Our platform helps you:\n",
      "\n",
      "*   **Automate Evidence Collection:** Seamlessly integrate with your existing systems to automatically gather and map evidence to SOC2 requirements.\n",
      "*   **Centralize Documentation:** Create a single source of truth for all your policies, procedures, and controls.\n",
      "*   **Proactively Identify Gaps:** Leverage AI-driven analysis to identify potential compliance gaps before they become audit findings.\n",
      "*   **Simplify Audit Preparation:** Generate comprehensive reports and dashboards that provide real-time visibility into your compliance posture.\n",
      "\n",
      "We believe ComplAI can help [Company Name] significantly reduce the time, cost, and complexity associated with SOC2 compliance.\n",
      "\n",
      "Would you be open to a brief, 15-minute call next week to discuss your SOC2 needs and explore how ComplAI can help you achieve a successful audit?\n",
      "\n",
      "Thank you for your time and consideration.\n",
      "\n",
      "Sincerely,\n",
      "\n",
      "[Your Name]\n",
      "\n",
      "Sales Agent | ComplAI\n",
      "\n",
      "[Your Phone Number]\n",
      "\n",
      "[Your Email Address]\n",
      "\n",
      "[Your Company Website]\n"
     ]
    }
   ],
   "source": [
    "result = Runner.run_streamed(sales_agent1,input=\"Write a cold email to a company that needs to prepare for a SOC2 audit.\")\n",
    "async for event in result.stream_events():\n",
    "    if event.type ==\"raw_response_event\" and isinstance(event.data,ResponseTextDeltaEvent):\n",
    "        print(event.data.delta, end=\"\", flush=True)"
   ]
  },
  {
   "cell_type": "code",
   "execution_count": 17,
   "id": "b1d6b07a",
   "metadata": {},
   "outputs": [
    {
     "name": "stdout",
     "output_type": "stream",
     "text": [
      "Subject: Streamline Your SOC2 Compliance with ComplAI\n",
      "\n",
      "Dear [Contact Name],\n",
      "\n",
      "My name is [Your Name] and I'm a Sales Agent at ComplAI, a company helping businesses like yours simplify and expedite the often complex process of achieving SOC2 compliance.\n",
      "\n",
      "I understand that preparing for a SOC2 audit can be a resource-intensive undertaking, demanding significant time and effort from your team. Ensuring all required controls are in place, documenting evidence, and undergoing the audit itself can be a drain on productivity and potentially delay critical business objectives.\n",
      "\n",
      "ComplAI offers a SaaS platform powered by AI that streamlines your SOC2 journey. Our solution helps you:\n",
      "\n",
      "*   **Automate evidence collection:** Seamlessly gather and organize the necessary evidence to demonstrate compliance with SOC2 requirements.\n",
      "*   **Identify compliance gaps:** Pinpoint areas where your current security posture needs improvement to meet SOC2 standards.\n",
      "*   **Simplify policy creation:** Utilize pre-built, customizable policy templates to ensure comprehensive documentation.\n",
      "*   **Reduce audit preparation time:** Minimize the time spent preparing for your audit, allowing your team to focus on core business activities.\n",
      "\n",
      "I'd be happy to schedule a brief call to discuss your specific needs and demonstrate how ComplAI can help you achieve SOC2 compliance efficiently and cost-effectively. Would you be available for a quick chat sometime next week?\n",
      "\n",
      "Thank you for your time and consideration.\n",
      "\n",
      "Sincerely,\n",
      "\n",
      "[Your Name]\n",
      "\n",
      "Sales Agent | ComplAI\n",
      "\n",
      "[Your Phone Number]\n",
      "\n",
      "[Your Email Address]\n",
      "\n",
      "[Your Company Website]\n",
      " \n",
      "\n",
      "---\n",
      "\n",
      "\n",
      "Subject: SOC 2 Ain't No Joke (But Preparing for It Can Be...Kinda, With Us 😉)\n",
      "\n",
      "Hey [Contact Name],\n",
      "\n",
      "Rumor has it you're gearing up for the thrilling, adrenaline-pumping, edge-of-your-seat excitement that is...a SOC 2 audit. (Okay, maybe I'm overselling it a *tad*.)\n",
      "\n",
      "Let's be honest, prepping for a SOC 2 can feel like trying to herd cats while juggling flaming torches. It's a chaotic dance of spreadsheets, policies, and enough documentation to wallpaper the Taj Mahal.\n",
      "\n",
      "That's where ComplAI comes in! We're like the superhero your compliance team didn't know they needed. (Think Batman, but instead of grappling hooks, we wield algorithms and instead of fighting crime, we battle compliance chaos.)\n",
      "\n",
      "Our AI-powered SaaS platform helps you:\n",
      "\n",
      "*   **Automate the soul-crushing parts:** Kiss goodbye to manual evidence collection and say hello to automated wizardry.\n",
      "*   **Identify gaps faster than you can say \"data breach\":** We pinpoint vulnerabilities before they become a problem, saving you from sleepless nights and potential penalties.\n",
      "*   **Generate reports that even your auditor will love:** (Okay, maybe \"love\" is a strong word, but they'll definitely appreciate the clarity.)\n",
      "\n",
      "Basically, we make SOC 2 compliance less of a headache and more of a, well, slightly less annoying task.\n",
      "\n",
      "So, if you're tired of drowning in compliance paperwork and dreaming of a simpler, more streamlined SOC 2 process, I'd love to chat.\n",
      "\n",
      "Would you be open to a quick 15-minute call next week to see how ComplAI can help you conquer your SOC 2 audit with a *hint* of sanity?\n",
      "\n",
      "Best,\n",
      "\n",
      "[Your Name]\n",
      "\n",
      "Chief Compliance Comedian (and ComplAI Sales Agent)\n",
      "\n",
      "ComplAI - Making Compliance Less Compli-cated (See what I did there?)\n",
      "\n",
      "[Your Website]\n",
      " \n",
      "\n",
      "---\n",
      "\n",
      "\n",
      "Subject: Streamline Your SOC2 Audit Prep with ComplAI\n",
      "\n",
      "Hi [Name],\n",
      "\n",
      "Preparing for a SOC2 audit can be a real headache.\n",
      "\n",
      "ComplAI uses AI to automate evidence collection and simplify compliance, saving you time and resources.\n",
      "\n",
      "Quick question: What's your biggest SOC2 compliance challenge right now?\n",
      "\n",
      "Best,\n",
      "\n",
      "[Your Name]\n",
      "\n",
      "ComplAI\n",
      " \n",
      "\n",
      "---\n",
      "\n",
      "\n"
     ]
    }
   ],
   "source": [
    "message = \"Write a cold email to a company that needs to prepare for a SOC2 audit.\"\n",
    "\n",
    "with trace(\"Parallel Cold Emails\"):\n",
    "    results = await asyncio.gather(\n",
    "        Runner.run(sales_agent1, input=message),\n",
    "        Runner.run(sales_agent2, input=message),\n",
    "        Runner.run(sales_agent3, input=message),\n",
    "    )\n",
    "\n",
    "\n",
    "outputs = [result.final_output for result in results]\n",
    "for output in outputs:\n",
    "    print(output, \"\\n\\n---\\n\\n\")\n"
   ]
  }
 ],
 "metadata": {
  "kernelspec": {
   "display_name": "ai_agents",
   "language": "python",
   "name": "python3"
  },
  "language_info": {
   "codemirror_mode": {
    "name": "ipython",
    "version": 3
   },
   "file_extension": ".py",
   "mimetype": "text/x-python",
   "name": "python",
   "nbconvert_exporter": "python",
   "pygments_lexer": "ipython3",
   "version": "3.12.0"
  }
 },
 "nbformat": 4,
 "nbformat_minor": 5
}
