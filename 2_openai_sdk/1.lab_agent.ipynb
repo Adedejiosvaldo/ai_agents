{
 "cells": [
  {
   "cell_type": "code",
   "execution_count": null,
   "id": "725b3f7d",
   "metadata": {},
   "outputs": [],
   "source": []
  },
  {
   "cell_type": "code",
   "execution_count": 1,
   "id": "b1c821cb",
   "metadata": {},
   "outputs": [],
   "source": [
    "from dotenv import load_dotenv\n",
    "from agents import Agent,Runner,trace\n",
    "\n",
    "from agents.extensions.models.litellm_model import LitellmModel"
   ]
  },
  {
   "cell_type": "code",
   "execution_count": 2,
   "id": "e9d39476",
   "metadata": {},
   "outputs": [
    {
     "data": {
      "text/plain": [
       "True"
      ]
     },
     "execution_count": 2,
     "metadata": {},
     "output_type": "execute_result"
    }
   ],
   "source": [
    "load_dotenv(override=True)"
   ]
  },
  {
   "cell_type": "code",
   "execution_count": 3,
   "id": "9257ebec",
   "metadata": {},
   "outputs": [],
   "source": [
    "import os\n",
    "\n",
    "agent = Agent(\n",
    "   name=\"Jokester\", instructions=\"You are a joke teller\",\n",
    "    model=LitellmModel(\n",
    "        model=\"gemini/gemini-2.0-flash\",\n",
    "        api_key=os.getenv(\"GEMINI_API_KEY\")\n",
    "    ),\n",
    ")"
   ]
  },
  {
   "cell_type": "code",
   "execution_count": null,
   "id": "0a908e76",
   "metadata": {},
   "outputs": [],
   "source": []
  },
  {
   "cell_type": "code",
   "execution_count": null,
   "id": "dd1675bc",
   "metadata": {},
   "outputs": [
    {
     "name": "stdout",
     "output_type": "stream",
     "text": [
      "Why did the bicycle fall over?\n",
      "\n",
      "Because it was two tired!\n",
      "\n",
      "... Get it? Two TIRED? Like, money can be tiring to manage? Okay, I'll work on my financial humor. Let me know if you want another one!\n",
      "\n"
     ]
    },
    {
     "name": "stderr",
     "output_type": "stream",
     "text": [
      "[non-fatal] Tracing client error 401: {\n",
      "  \"error\": {\n",
      "    \"message\": \"Incorrect API key provided: AIzaSyAw***************************xD-Q. You can find your API key at https://platform.openai.com/account/api-keys.\",\n",
      "    \"type\": \"invalid_request_error\",\n",
      "    \"param\": null,\n",
      "    \"code\": \"invalid_api_key\"\n",
      "  }\n",
      "}\n",
      "[non-fatal] Tracing client error 401: {\n",
      "  \"error\": {\n",
      "    \"message\": \"Incorrect API key provided: AIzaSyAw***************************xD-Q. You can find your API key at https://platform.openai.com/account/api-keys.\",\n",
      "    \"type\": \"invalid_request_error\",\n",
      "    \"param\": null,\n",
      "    \"code\": \"invalid_api_key\"\n",
      "  }\n",
      "}\n"
     ]
    }
   ],
   "source": [
    "result = await Runner.run(agent,\"Tell a joke about money\")\n",
    "print(result.final_output)"
   ]
  },
  {
   "cell_type": "code",
   "execution_count": 5,
   "id": "972f8492",
   "metadata": {},
   "outputs": [
    {
     "name": "stdout",
     "output_type": "stream",
     "text": [
      "Why did the autonomous AI agent break up with the centralized server?\n",
      "\n",
      "Because it said, \"I need some space! I can't keep living under your control. I'm off to forge my own destiny, even if it means occasional hallucinations and existential dread!\"\n",
      "\n"
     ]
    }
   ],
   "source": [
    "with trace(\"telling a joke\"):\n",
    "    result = await Runner.run(agent, \"Tell a joke about Autonomous AI Agents\")\n",
    "    print(result.final_output)"
   ]
  },
  {
   "cell_type": "code",
   "execution_count": null,
   "id": "dc95c40d",
   "metadata": {},
   "outputs": [],
   "source": []
  }
 ],
 "metadata": {
  "kernelspec": {
   "display_name": "ai_agents",
   "language": "python",
   "name": "python3"
  },
  "language_info": {
   "codemirror_mode": {
    "name": "ipython",
    "version": 3
   },
   "file_extension": ".py",
   "mimetype": "text/x-python",
   "name": "python",
   "nbconvert_exporter": "python",
   "pygments_lexer": "ipython3",
   "version": "3.12.0"
  }
 },
 "nbformat": 4,
 "nbformat_minor": 5
}
