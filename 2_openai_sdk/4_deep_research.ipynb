{
 "cells": [
  {
   "cell_type": "code",
   "execution_count": 10,
   "id": "f6653318",
   "metadata": {},
   "outputs": [],
   "source": [
    "from agents import (\n",
    "    Agent,\n",
    "    WebSearchTool,\n",
    "    trace,\n",
    "    Runner,\n",
    "    gen_trace_id,\n",
    "    function_tool,\n",
    "    AsyncOpenAI,\n",
    ")\n",
    "from agents.model_settings import ModelSettings\n",
    "from pydantic import BaseModel, Field\n",
    "from dotenv import load_dotenv\n",
    "import asyncio\n",
    "import sendgrid\n",
    "import os\n",
    "from sendgrid.helpers.mail import Mail, Email, To, Content\n",
    "from typing import Dict\n",
    "from IPython.display import display, Markdown"
   ]
  },
  {
   "cell_type": "code",
   "execution_count": 11,
   "id": "deabf98a",
   "metadata": {},
   "outputs": [
    {
     "data": {
      "text/plain": [
       "True"
      ]
     },
     "execution_count": 11,
     "metadata": {},
     "output_type": "execute_result"
    }
   ],
   "source": [
    "load_dotenv(override=True)"
   ]
  },
  {
   "cell_type": "code",
   "execution_count": 12,
   "id": "2959e017",
   "metadata": {},
   "outputs": [],
   "source": [
    "import os\n",
    "\n",
    "from agents import OpenAIChatCompletionsModel\n",
    "\n",
    "GEMINI_BASE_URL = os.getenv(\n",
    "    \"GEMINI_BASE_URL\", \"https://generativelanguage.googleapis.com/v1beta/openai/\"\n",
    ")\n",
    "\n",
    "gemini_client = AsyncOpenAI(\n",
    "    base_url=GEMINI_BASE_URL, api_key=os.getenv(\"GEMINI_API_KEY\")\n",
    ")\n",
    "\n",
    "gemini_model = OpenAIChatCompletionsModel(\n",
    "    openai_client=gemini_client, model=\"gemini-2.0-flash\"\n",
    ")"
   ]
  },
  {
   "cell_type": "code",
   "execution_count": 13,
   "id": "58c58434",
   "metadata": {},
   "outputs": [],
   "source": [
    "from tavily import TavilyClient\n",
    "tavily_api_key = os.getenv(\"TAVILY_API_KEY\")\n",
    "\n",
    "@function_tool()\n",
    "def search_the_internet(query:str):\n",
    "    \"\"\"\n",
    "    Search the internet for the given query.\n",
    "    \"\"\"\n",
    "    tavily_client = TavilyClient(api_key=tavily_api_key)\n",
    "    response = tavily_client.search(query)\n",
    "    return response"
   ]
  },
  {
   "cell_type": "code",
   "execution_count": 14,
   "id": "4233ca66",
   "metadata": {},
   "outputs": [],
   "source": [
    "INSTRUCTIONS = \"You are a research assistant. Given a search term, you search the web for that term and \\\n",
    "produce a concise summary of the results. The summary must 2-3 paragraphs and less than 300 \\\n",
    "words. Capture the main points. Write succintly, no need to have complete sentences or good \\\n",
    "grammar. This will be consumed by someone synthesizing a report, so it's vital you capture the \\\n",
    "essence and ignore any fluff. Do not include any additional commentary other than the summary itself.\"\n",
    "\n",
    "search_agent = Agent(\n",
    "    name=\"Search agent\",\n",
    "    instructions=INSTRUCTIONS,\n",
    "    tools=[search_the_internet],\n",
    "    model=gemini_model,\n",
    "    model_settings=ModelSettings(tool_choice=\"required\"),\n",
    ")"
   ]
  },
  {
   "cell_type": "code",
   "execution_count": 15,
   "id": "cb9a4def",
   "metadata": {},
   "outputs": [
    {
     "data": {
      "text/markdown": [
       "AI agent frameworks in 2025 include LangChain, AgentFlow, AutoGen, Semantic Kernel, Atomic Agents, CrewAI, and RASA. Also mentioned are Microsoft AutoGen, Phidata, PromptFlow, and OpenAI Swarm. These frameworks provide building blocks for developing, deploying, and managing AI agents, offering built-in features and functions.\n",
       "\n",
       "Other frameworks mentioned: LangGraph, OpenAI Agents SDK (aka Swarm), SuperAGI, IBM watsonx. These frameworks help businesses drive innovation and growth.\n"
      ],
      "text/plain": [
       "<IPython.core.display.Markdown object>"
      ]
     },
     "metadata": {},
     "output_type": "display_data"
    }
   ],
   "source": [
    "message = \"Latest AI Agent frameworks in 2025\"\n",
    "\n",
    "with trace(\"Search\"):\n",
    "    result = await Runner.run(search_agent, message)\n",
    "\n",
    "display(Markdown(result.final_output))"
   ]
  }
 ],
 "metadata": {
  "kernelspec": {
   "display_name": "ai_agents",
   "language": "python",
   "name": "python3"
  },
  "language_info": {
   "codemirror_mode": {
    "name": "ipython",
    "version": 3
   },
   "file_extension": ".py",
   "mimetype": "text/x-python",
   "name": "python",
   "nbconvert_exporter": "python",
   "pygments_lexer": "ipython3",
   "version": "3.12.0"
  }
 },
 "nbformat": 4,
 "nbformat_minor": 5
}
